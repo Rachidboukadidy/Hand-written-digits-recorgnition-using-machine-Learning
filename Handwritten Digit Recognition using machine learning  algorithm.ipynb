{
 "cells": [
  {
   "cell_type": "markdown",
   "id": "f011738a",
   "metadata": {},
   "source": [
    "# Importation des bibliothèques nécessaires"
   ]
  },
  {
   "cell_type": "code",
   "execution_count": null,
   "id": "34843558",
   "metadata": {},
   "outputs": [],
   "source": [
    "import numpy as np\n",
    "import tensorflow as tf\n",
    "import matplotlib.pyplot as plt\n",
    "from tensorflow.keras.models import Sequential\n",
    "from tensorflow.keras.layers import Dense,Dropout,Activation,Flatten,Conv2D,MaxPooling2D\n",
    "from sklearn import svm\n",
    "from sklearn import metrics\n",
    "from sklearn import linear_model\n",
    "import seaborn as sns\n",
    "from sklearn.metrics import accuracy_score, confusion_matrix, classification_report, roc_curve, auc"
   ]
  },
  {
   "cell_type": "markdown",
   "id": "691c62d0",
   "metadata": {},
   "source": [
    "# Chargement des données"
   ]
  },
  {
   "cell_type": "code",
   "execution_count": null,
   "id": "494c9a61",
   "metadata": {},
   "outputs": [],
   "source": [
    "data_mnist=tf.keras.datasets.mnist\n",
    "(X_train,Y_train),(X_test,Y_test)=data_mnist.load_data();"
   ]
  },
  {
   "cell_type": "code",
   "execution_count": null,
   "id": "898906a8",
   "metadata": {},
   "outputs": [],
   "source": [
    "def plot_mnist_images(images, labels, num_images=20):\n",
    "    num_cols = 10\n",
    "    num_rows = num_images // num_cols + (1 if num_images % num_cols != 0 else 0)\n",
    "    \n",
    "    plt.figure(figsize=(10, num_rows * 2))\n",
    "    for i in range(num_images):\n",
    "        plt.subplot(num_rows, num_cols, i \n",
    "                    + 1)\n",
    "        plt.imshow(images[i], cmap='gray')\n",
    "        plt.title(labels[i])\n",
    "        plt.axis('off')\n",
    "    plt.tight_layout()\n",
    "    plt.show()\n",
    "plot_mnist_images(X_train, Y_train, num_images=30)"
   ]
  },
  {
   "cell_type": "code",
   "execution_count": null,
   "id": "e42a0113",
   "metadata": {},
   "outputs": [],
   "source": [
    "print(\"Taille des données d'entraînement :\", X_train.shape, Y_train.shape)\n",
    "print(\"Taille des données de test :\", X_test.shape, Y_test.shape)\n",
    "print(Y_train)\n",
    "print(X_train)\n",
    "print(Y_test)\n",
    "print(X_test)\n",
    "\n"
   ]
  },
  {
   "cell_type": "markdown",
   "id": "a0dee5ea",
   "metadata": {},
   "source": [
    "# Redimensionnement et Normalisation des Données MNIST\n"
   ]
  },
  {
   "cell_type": "code",
   "execution_count": null,
   "id": "71504d83",
   "metadata": {},
   "outputs": [],
   "source": [
    "\n",
    "# Aplatissement des images (conversion 28x28 en 784)\n",
    "X_train = X_train.reshape(X_train.shape[0], -1)\n",
    "X_test = X_test.reshape(X_test.shape[0], -1)\n",
    "\n",
    "# Normalisation des données (mise à l'échelle entre 0 et 1)\n",
    "X_train = X_train / 255.0\n",
    "X_test = X_test / 255.0\n",
    "print(X_train.shape)\n",
    "print(X_test.shape)"
   ]
  },
  {
   "cell_type": "markdown",
   "id": "ba21c9f2",
   "metadata": {},
   "source": [
    "# Visualisation des données d'entraînement"
   ]
  },
  {
   "cell_type": "code",
   "execution_count": null,
   "id": "13139d2f",
   "metadata": {},
   "outputs": [],
   "source": [
    "def drawImg(sample):               \n",
    "    img=sample.reshape((28,28))    \n",
    "    plt.imshow(img,cmap='gray')\n",
    "    plt.show()\n",
    "    \n",
    "drawImg(X_train[333])\n",
    "print(Y_train[333])"
   ]
  },
  {
   "cell_type": "markdown",
   "id": "5518629a",
   "metadata": {},
   "source": [
    "# Implémentation de KNN"
   ]
  },
  {
   "cell_type": "code",
   "execution_count": null,
   "id": "ee8feb30",
   "metadata": {},
   "outputs": [],
   "source": [
    "def euclidean_distance(x1,x2):\n",
    "    return np.sqrt(np.sum((x1-x2)**2))\n",
    "\n",
    "def knn(X,Y,query_point,k=5 ):\n",
    "    vals=[]\n",
    "    m=X_train.shape[0]\n",
    "    \n",
    "    for i in range(m):\n",
    "        d=euclidean_distance(query_point,X[i])\n",
    "        vals.append((d,Y[i])) \n",
    "            \n",
    "    vals=sorted(vals)\n",
    "  \n",
    "    vals=vals[:k]\n",
    "    \n",
    "    vals=np.array(vals)\n",
    "    #print(vals)\n",
    "    new_vals=np.unique(vals[:,1],return_counts=True)\n",
    "    index=new_vals[1].argmax()\n",
    "    pred=new_vals[0][index]\n",
    "    \n",
    "    return pred"
   ]
  },
  {
   "cell_type": "code",
   "execution_count": null,
   "id": "5b2129ae",
   "metadata": {},
   "outputs": [],
   "source": [
    "X_test1=X_test[:50]   # Taking the first 50 rows from X_test\n",
    "Y_test1=Y_test[:50]   # Taking the first 50 rows from Y_test"
   ]
  },
  {
   "cell_type": "raw",
   "id": "fb4651e4",
   "metadata": {
    "scrolled": true
   },
   "source": [
    "print(X_test1)\n",
    "print(Y_test1)"
   ]
  },
  {
   "cell_type": "markdown",
   "id": "c478d385",
   "metadata": {},
   "source": [
    "# Prédictions des données"
   ]
  },
  {
   "cell_type": "code",
   "execution_count": null,
   "id": "3e80320b",
   "metadata": {
    "scrolled": false
   },
   "outputs": [],
   "source": [
    "for test in X_test1:\n",
    "    drawImg(test)\n",
    "    print(\"Label:\", knn(X_train, Y_train, test))"
   ]
  },
  {
   "cell_type": "markdown",
   "id": "7ecb7753",
   "metadata": {},
   "source": [
    "# L'analyse de la performance du modèle KNN"
   ]
  },
  {
   "cell_type": "code",
   "execution_count": null,
   "id": "7099a005",
   "metadata": {},
   "outputs": [],
   "source": [
    "\n",
    "def predict_knn(X_train, Y_train, X_test, k=5):\n",
    "    predictions = []\n",
    "    for test_point in X_test:\n",
    "        pred_label = knn(X_train, Y_train, test_point, k)\n",
    "        predictions.append(pred_label)\n",
    "    return np.array(predictions)\n"
   ]
  },
  {
   "cell_type": "code",
   "execution_count": null,
   "id": "1eb89e40",
   "metadata": {},
   "outputs": [],
   "source": [
    "\n",
    "y_pred = predict_knn(X_train, Y_train, X_test1, k=5)"
   ]
  },
  {
   "cell_type": "code",
   "execution_count": null,
   "id": "1c244b59",
   "metadata": {},
   "outputs": [],
   "source": [
    "\n",
    "# Calcul de l'accuracy\n",
    "accuracy = accuracy_score(Y_test1, y_pred)\n",
    "print(f\"Accuracy: {accuracy:.2f}\")\n"
   ]
  },
  {
   "cell_type": "code",
   "execution_count": null,
   "id": "b1d86b98",
   "metadata": {},
   "outputs": [],
   "source": [
    "# Affichage de la matrice de confusion\n",
    "conf_matrix1 = confusion_matrix(Y_test1, y_pred)\n",
    "print(\"Confusion Matrix:\")\n",
    "print(conf_matrix1)\n"
   ]
  },
  {
   "cell_type": "code",
   "execution_count": null,
   "id": "b10aa2e2",
   "metadata": {},
   "outputs": [],
   "source": [
    "plt.figure(figsize=(10, 7))\n",
    "sns.heatmap(conf_matrix1, annot=True, fmt='d', cmap='Blues', xticklabels=range(10), yticklabels=range(10))\n",
    "plt.xlabel('Classe prédite')\n",
    "plt.ylabel('Classe réelle')\n",
    "plt.title('Matrice de Confusion')\n",
    "plt.show()"
   ]
  },
  {
   "cell_type": "code",
   "execution_count": null,
   "id": "5527488e",
   "metadata": {},
   "outputs": [],
   "source": [
    "# Rapport de classification\n",
    "class_report = classification_report(Y_test1, y_pred)\n",
    "print(\"Classification Report:\")\n",
    "print(class_report)\n"
   ]
  },
  {
   "cell_type": "markdown",
   "id": "8b62a33b",
   "metadata": {},
   "source": [
    "# Implémentation de CNN"
   ]
  },
  {
   "cell_type": "code",
   "execution_count": null,
   "id": "f0ad226e",
   "metadata": {},
   "outputs": [],
   "source": [
    "image_size = 28\n",
    "X_trainR = np.array(X_train).reshape(-1,image_size,image_size,1)\n",
    "X_testR = np.array(X_test).reshape(-1,image_size,image_size ,1)\n",
    "print(\"training samples dimension \",X_trainR.shape)\n",
    "print(\"testing samples dimension \",X_testR.shape)\n",
    "\n"
   ]
  },
  {
   "cell_type": "code",
   "execution_count": null,
   "id": "684fb20b",
   "metadata": {},
   "outputs": [],
   "source": [
    "# Création d'un réseau de neurones\n",
    "model= Sequential()\n",
    "## 1er Convolution layers \n",
    "model.add(Conv2D(64,(3,3), input_shape=X_trainR.shape[1:])) \n",
    "model.add(Activation(\"relu\"))## Fonction d'activation pour le rendre non linéaire\n",
    "model.add(MaxPooling2D(pool_size=(2,2)))## maxpooling\n",
    "## 2rd Convolution layer\n",
    "model.add(Conv2D(64,(3,3),input_shape=X_trainR.shape[1:])) \n",
    "model.add(Activation(\"relu\"))\n",
    "model.add(MaxPooling2D(pool_size=(2,2)))\n",
    "\n",
    "# 3rd Convolution layer \n",
    "model.add(Conv2D(64,(3,3),input_shape=X_trainR.shape[1:]))\n",
    "model.add(Activation(\"relu\"))\n",
    "model.add(MaxPooling2D(pool_size=(2,2)))\n",
    "\n",
    "#Fully connected layer 1  20*20 =400\n",
    "model.add(Flatten())\n",
    "model.add(Dense(64))\n",
    "model.add(Activation(\"relu\"))\n",
    "\n",
    "#Fully connected layer 2\n",
    "model.add(Dense(32))\n",
    "model.add(Activation(\"relu\"))\n",
    "\n",
    "#Dernière couche entièrement connectée : la sortie doit être égale au nombre de classes, soit 10 (0 à 9).\n",
    "model.add(Dense(10))\n",
    "model.add(Activation(\"softmax\"))### La fonction d'activation est changée en softmax.\n"
   ]
  },
  {
   "cell_type": "code",
   "execution_count": null,
   "id": "a213a996",
   "metadata": {},
   "outputs": [],
   "source": [
    "model.summary()"
   ]
  },
  {
   "cell_type": "code",
   "execution_count": null,
   "id": "9272bb31",
   "metadata": {},
   "outputs": [],
   "source": [
    "print(\"totale train Samples is :\",len(X_trainR))"
   ]
  },
  {
   "cell_type": "code",
   "execution_count": null,
   "id": "d37c212f",
   "metadata": {},
   "outputs": [],
   "source": [
    "model.compile(optimizer='adam', loss='sparse_categorical_crossentropy', metrics=['accuracy'])\n"
   ]
  },
  {
   "cell_type": "code",
   "execution_count": null,
   "id": "b743231a",
   "metadata": {},
   "outputs": [],
   "source": [
    "#training my model \n",
    "model.fit(X_trainR, Y_train, epochs=5, validation_split=0.3)\n"
   ]
  },
  {
   "cell_type": "code",
   "execution_count": null,
   "id": "e71167cf",
   "metadata": {},
   "outputs": [],
   "source": [
    "test_loss, test_accu = model.evaluate(X_testR,Y_test)\n",
    "print(\"test loss on 10000 test samples is :\",test_loss)\n",
    "print (\"test accuracy on 10000 samples is :\",test_accu)"
   ]
  },
  {
   "cell_type": "markdown",
   "id": "6d7a2e9d",
   "metadata": {},
   "source": [
    "# Prédictions des données"
   ]
  },
  {
   "cell_type": "code",
   "execution_count": null,
   "id": "19f22ef9",
   "metadata": {},
   "outputs": [],
   "source": [
    "predictions2=model.predict(X_testR)"
   ]
  },
  {
   "cell_type": "code",
   "execution_count": null,
   "id": "0de6d918",
   "metadata": {},
   "outputs": [],
   "source": [
    "print(predictions2)"
   ]
  },
  {
   "cell_type": "code",
   "execution_count": null,
   "id": "3bf37af2",
   "metadata": {},
   "outputs": [],
   "source": [
    "def plot_images_with_labels(image1, label1, image2, label2):\n",
    "    fig, axes = plt.subplots(1, 2)\n",
    "    axes[0].imshow(image1, cmap='gray')\n",
    "    axes[0].axis('off')\n",
    "    axes[0].set_title('Label: {}'.format(label1))\n",
    "    axes[1].imshow(image2, cmap='gray')\n",
    "    axes[1].axis('off')\n",
    "    axes[1].set_title('Label: {}'.format(label2))\n",
    "    plt.show()\n",
    "\n",
    "image1 = X_testR[500]\n",
    "label1 = np.argmax(predictions2[500])\n",
    "image2 = X_testR[100]\n",
    "label2 = np.argmax(predictions2[100])\n",
    "plot_images_with_labels(image1, label1, image2, label2)"
   ]
  },
  {
   "cell_type": "markdown",
   "id": "43c707d5",
   "metadata": {},
   "source": [
    "# L'analyse de la performance du modèle CNN"
   ]
  },
  {
   "cell_type": "code",
   "execution_count": null,
   "id": "3a82d378",
   "metadata": {
    "scrolled": false
   },
   "outputs": [],
   "source": [
    "# Convertir les prédictions en classes\n",
    "Y_pred_classes = np.argmax(predictions2, axis=1)\n",
    "\n",
    "# Calculer la matrice de confusion\n",
    "conf_matrix2 = confusion_matrix(Y_test, Y_pred_classes)\n",
    "\n",
    "# Tracer la matrice de confusion\n",
    "plt.figure(figsize=(10, 8))\n",
    "sns.heatmap(conf_matrix2, annot=True, fmt='d', cmap='Blues', xticklabels=range(10), yticklabels=range(10))\n",
    "plt.xlabel('Classe prédite')\n",
    "plt.ylabel('Classe réelle')\n",
    "plt.title('Matrice de Confusion')\n",
    "plt.show()"
   ]
  },
  {
   "cell_type": "code",
   "execution_count": null,
   "id": "63d53dbd",
   "metadata": {},
   "outputs": [],
   "source": [
    "print(conf_matrix2)"
   ]
  },
  {
   "cell_type": "code",
   "execution_count": null,
   "id": "f2ac835a",
   "metadata": {},
   "outputs": [],
   "source": [
    "# measure accuracy\n",
    "metrics.accuracy_score(y_true=Y_test, y_pred=predictions2)\n",
    "# class-wise accuracy\n",
    "class_wise = metrics.classification_report(y_true=Y_test, y_pred=predictions2)\n",
    "print(class_wise)"
   ]
  },
  {
   "cell_type": "markdown",
   "id": "e6fa2fa4",
   "metadata": {},
   "source": [
    "# Implémentation de SVM"
   ]
  },
  {
   "cell_type": "code",
   "execution_count": null,
   "id": "dba6d12d",
   "metadata": {},
   "outputs": [],
   "source": [
    "print(X_train.shape)"
   ]
  },
  {
   "cell_type": "code",
   "execution_count": null,
   "id": "507b443f",
   "metadata": {},
   "outputs": [],
   "source": [
    "\n",
    "\n",
    "# Aplatissement des images (conversion 28x28 en 784)\n",
    "X_train = X_train.reshape(X_train.shape[0], -1)\n",
    "X_test = X_test.reshape(X_test.shape[0], -1)\n",
    "\n",
    "# Normalisation des données (mise à l'échelle entre 0 et 1)\n",
    "X_train = X_train / 255.0\n",
    "X_test = X_test / 255.0\n",
    "print(X_train.shape)\n",
    "print(X_test.shape)"
   ]
  },
  {
   "cell_type": "code",
   "execution_count": null,
   "id": "15caf082",
   "metadata": {},
   "outputs": [],
   "source": [
    "\n",
    "#modèle SVM initial avec un noyau linéairean initial SVM model with linear kernel   \n",
    "svm_linear = svm.SVC(kernel='linear')\n",
    "\n",
    "# fit\n",
    "svm_linear.fit(X_train, Y_train)"
   ]
  },
  {
   "cell_type": "code",
   "execution_count": null,
   "id": "ee418a00",
   "metadata": {},
   "outputs": [],
   "source": [
    "predictions3 = svm_linear.predict(X_test)\n",
    "\n",
    "images_to_display = X_test[:4]\n",
    "predictions_to_display = predictions3[:4]\n",
    "\n",
    "# Taille de la figure pour l'affichage\n",
    "plt.figure(figsize=(10, 2))\n",
    "\n",
    "for index, (image, prediction) in enumerate(zip(images_to_display, predictions_to_display)):\n",
    "    plt.subplot(1, 4, index + 1)\n",
    "    plt.imshow(image.reshape(28, 28), cmap='gray')\n",
    "    plt.title(f\"Prédiction: {prediction}\")\n",
    "    plt.axis('off')\n",
    "\n",
    "plt.tight_layout()\n",
    "plt.show()"
   ]
  },
  {
   "cell_type": "markdown",
   "id": "6e10e40c",
   "metadata": {},
   "source": [
    "# L'analyse de la performance du modèle SVM"
   ]
  },
  {
   "cell_type": "code",
   "execution_count": null,
   "id": "d5f4beb2",
   "metadata": {},
   "outputs": [],
   "source": [
    "conf_matrix3 = metrics.confusion_matrix(y_true = Y_test, y_pred = predictions3)\n",
    "conf_matrix3"
   ]
  },
  {
   "cell_type": "code",
   "execution_count": null,
   "id": "64d1006b",
   "metadata": {},
   "outputs": [],
   "source": [
    "# Tracer la matrice de confusion\n",
    "plt.figure(figsize=(10, 8))\n",
    "sns.heatmap(conf_matrix3, annot=True, fmt='d', cmap='Blues', xticklabels=range(10), yticklabels=range(10))\n",
    "plt.xlabel('Classe prédite')\n",
    "plt.ylabel('Classe réelle')\n",
    "plt.title('Matrice de Confusion')\n",
    "plt.show()"
   ]
  },
  {
   "cell_type": "code",
   "execution_count": null,
   "id": "17893d29",
   "metadata": {},
   "outputs": [],
   "source": [
    "# measure accuracy\n",
    "metrics.accuracy_score(y_true=Y_test, y_pred=predictions3)"
   ]
  },
  {
   "cell_type": "code",
   "execution_count": null,
   "id": "78476bf5",
   "metadata": {},
   "outputs": [],
   "source": [
    "# class-wise accuracy\n",
    "class_wise = metrics.classification_report(y_true=Y_test, y_pred=predictions3)\n",
    "print(class_wise)"
   ]
  },
  {
   "cell_type": "code",
   "execution_count": null,
   "id": "1b4de577",
   "metadata": {},
   "outputs": [],
   "source": [
    "!pip install nbconvert pypandoc\n"
   ]
  }
 ],
 "metadata": {
  "kernelspec": {
   "display_name": "Python 3 (ipykernel)",
   "language": "python",
   "name": "python3"
  },
  "language_info": {
   "codemirror_mode": {
    "name": "ipython",
    "version": 3
   },
   "file_extension": ".py",
   "mimetype": "text/x-python",
   "name": "python",
   "nbconvert_exporter": "python",
   "pygments_lexer": "ipython3",
   "version": "3.11.5"
  }
 },
 "nbformat": 4,
 "nbformat_minor": 5
}
